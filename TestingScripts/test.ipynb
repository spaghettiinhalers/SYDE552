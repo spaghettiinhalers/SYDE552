{
 "cells": [
  {
   "cell_type": "markdown",
   "id": "cea2f62c",
   "metadata": {},
   "source": [
    "AUTOREGRESSIVE RNN"
   ]
  },
  {
   "cell_type": "code",
   "execution_count": 5,
   "id": "1143c691",
   "metadata": {},
   "outputs": [],
   "source": [
    "import torch\n",
    "import torch.nn as nn\n",
    "import torch.optim as optim\n",
    "\n",
    "# Device config\n",
    "device = torch.device(\"cuda\" if torch.cuda.is_available() else \"cpu\")\n",
    "\n",
    "# Toy dataset\n",
    "text = \"hello*\"\n",
    "chars = sorted(list(set(text)))\n",
    "char2idx = {ch: idx for idx, ch in enumerate(chars)}\n",
    "idx2char = {idx: ch for ch, idx in char2idx.items()}\n",
    "vocab_size = len(chars)"
   ]
  },
  {
   "cell_type": "code",
   "execution_count": 6,
   "id": "9abaf8f1",
   "metadata": {},
   "outputs": [],
   "source": [
    "class CharRNN(nn.Module):\n",
    "    def __init__(self, input_size, hidden_size, output_size):\n",
    "        super(CharRNN, self).__init__()\n",
    "        self.hidden_size = hidden_size\n",
    "        self.rnn = nn.RNN(input_size, hidden_size, batch_first=True)\n",
    "        self.fc = nn.Linear(hidden_size, output_size)\n",
    "\n",
    "    def forward(self, x, hidden):\n",
    "        out, hidden = self.rnn(x, hidden)\n",
    "        out = self.fc(out)\n",
    "        return out, hidden\n",
    "\n",
    "    def init_hidden(self):\n",
    "        return torch.zeros(1, 1, self.hidden_size).to(device)\n"
   ]
  },
  {
   "cell_type": "code",
   "execution_count": 7,
   "id": "af44179a",
   "metadata": {},
   "outputs": [
    {
     "name": "stdout",
     "output_type": "stream",
     "text": [
      "Epoch [20/100], Loss: 4.1096\n",
      "Epoch [40/100], Loss: 1.2606\n",
      "Epoch [60/100], Loss: 0.4244\n",
      "Epoch [80/100], Loss: 0.2046\n",
      "Epoch [100/100], Loss: 0.1272\n"
     ]
    }
   ],
   "source": [
    "# One-hot encoding function\n",
    "def one_hot_encode(char_idx, vocab_size):\n",
    "    vec = torch.zeros(1, 1, vocab_size)\n",
    "    vec[0, 0, char_idx] = 1\n",
    "    return vec.to(device)\n",
    "\n",
    "model = CharRNN(input_size=vocab_size, hidden_size=8, output_size=vocab_size).to(device)\n",
    "criterion = nn.CrossEntropyLoss()\n",
    "optimizer = optim.Adam(model.parameters(), lr=0.01)\n",
    "\n",
    "# Training\n",
    "n_epochs = 100\n",
    "for epoch in range(n_epochs):\n",
    "    hidden = model.init_hidden()\n",
    "    loss = 0\n",
    "\n",
    "    for i in range(len(text) - 1):\n",
    "        input_char = one_hot_encode(char2idx[text[i]], vocab_size)\n",
    "        target = torch.tensor([char2idx[text[i + 1]]]).to(device)\n",
    "\n",
    "        output, hidden = model(input_char, hidden)\n",
    "        loss += criterion(output.view(-1, vocab_size), target)\n",
    "\n",
    "    optimizer.zero_grad()\n",
    "    loss.backward()\n",
    "    optimizer.step()\n",
    "\n",
    "    if (epoch + 1) % 20 == 0:\n",
    "        print(f'Epoch [{epoch+1}/{n_epochs}], Loss: {loss.item():.4f}')\n"
   ]
  },
  {
   "cell_type": "code",
   "execution_count": 9,
   "id": "9b2bd6f8",
   "metadata": {},
   "outputs": [
    {
     "name": "stdout",
     "output_type": "stream",
     "text": [
      "Generated: hello\n"
     ]
    }
   ],
   "source": [
    "def generate_text(start_char='h', max_length=20, stop_char='*'):\n",
    "    model.eval()\n",
    "    hidden = model.init_hidden()\n",
    "    input_char = one_hot_encode(char2idx[start_char], vocab_size)\n",
    "    generated = start_char\n",
    "\n",
    "    for _ in range(max_length):\n",
    "        output, hidden = model(input_char, hidden)\n",
    "        probs = torch.softmax(output.view(-1), dim=0).detach().cpu().numpy()\n",
    "        char_idx = torch.multinomial(torch.tensor(probs), 1).item()\n",
    "        char = idx2char[char_idx]\n",
    "        \n",
    "        if char == stop_char:\n",
    "            break\n",
    "        \n",
    "        generated += char\n",
    "        input_char = one_hot_encode(char_idx, vocab_size)\n",
    "\n",
    "    return generated\n",
    "\n",
    "print(\"Generated:\", generate_text('h'))\n"
   ]
  },
  {
   "cell_type": "code",
   "execution_count": null,
   "id": "4b1e2716",
   "metadata": {},
   "outputs": [],
   "source": []
  }
 ],
 "metadata": {
  "kernelspec": {
   "display_name": "Python 3",
   "language": "python",
   "name": "python3"
  },
  "language_info": {
   "codemirror_mode": {
    "name": "ipython",
    "version": 3
   },
   "file_extension": ".py",
   "mimetype": "text/x-python",
   "name": "python",
   "nbconvert_exporter": "python",
   "pygments_lexer": "ipython3",
   "version": "3.9.6"
  }
 },
 "nbformat": 4,
 "nbformat_minor": 5
}
