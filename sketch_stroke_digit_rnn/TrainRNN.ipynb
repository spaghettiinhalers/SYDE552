{
 "cells": [
  {
   "cell_type": "code",
   "execution_count": 1,
   "id": "87b20e45",
   "metadata": {},
   "outputs": [],
   "source": [
    "import numpy as np\n",
    "import matplotlib.pyplot as plt\n",
    "import torch\n",
    "import torch.nn as nn\n",
    "from torch.utils.data import Dataset\n",
    "from torch.utils.data import DataLoader"
   ]
  },
  {
   "cell_type": "markdown",
   "id": "63447d8c",
   "metadata": {},
   "source": [
    "# Loading in data"
   ]
  },
  {
   "cell_type": "code",
   "execution_count": 2,
   "id": "5e30563e",
   "metadata": {},
   "outputs": [],
   "source": [
    "input_data = []\n",
    "output_data = []\n",
    "\n",
    "for i in range(10000):\n",
    "    try:\n",
    "        data = np.loadtxt(f'../sequences/testimg-{i}-targetdata.txt', delimiter=' ')\n",
    "    except FileNotFoundError:\n",
    "        print(f\"❌ File not found at path: {i}\")\n",
    "        continue\n",
    "    \n",
    "    inputOneshot = data[0, 0:10]\n",
    "    outputStrokes = data[:, 10:]\n",
    "    outputStrokes[:, 0] = outputStrokes[:, 0]/28\n",
    "    outputStrokes[:, 1] = outputStrokes[:, 1]/28\n",
    "    \n",
    "    \n",
    "    input_data.append(inputOneshot)\n",
    "    output_data.append(outputStrokes)"
   ]
  },
  {
   "cell_type": "code",
   "execution_count": 3,
   "id": "d74adda4",
   "metadata": {},
   "outputs": [],
   "source": [
    "def draw_stroke_sequence(sequence, save_path=None, show=True):\n",
    "    \"\"\"\n",
    "    sequence: numpy array or list of shape (T, 4) where each row is [dx, dy, eos, eod]\n",
    "    save_path: optional path to save the plot as an image\n",
    "    show: whether to display the plot\n",
    "    \"\"\"\n",
    "    x, y = 0, 0\n",
    "    xs, ys = [], []\n",
    "\n",
    "    for dx, dy, eos, eod in sequence:\n",
    "        x += dx*28\n",
    "        y += dy*28\n",
    "        xs.append(x)\n",
    "        ys.append(y)\n",
    "\n",
    "        if eos > 0.5:  # end of stroke\n",
    "            xs.append(None)\n",
    "            ys.append(None)\n",
    "\n",
    "        if eod > 0.5:\n",
    "            break\n",
    "\n",
    "    plt.figure(figsize=(2, 2))\n",
    "    plt.plot(xs, ys, linewidth=2)\n",
    "    plt.gca().invert_yaxis()\n",
    "    plt.axis('off')\n",
    "    plt.axis('equal')\n",
    "    \n",
    "    plt.show()"
   ]
  },
  {
   "cell_type": "code",
   "execution_count": 4,
   "id": "13bc965e",
   "metadata": {},
   "outputs": [],
   "source": [
    "def getNumFromOneHot(inp):\n",
    "    for i in range(10):\n",
    "        if inp[i] == 1:\n",
    "            return i"
   ]
  },
  {
   "cell_type": "code",
   "execution_count": 5,
   "id": "c84ec919",
   "metadata": {},
   "outputs": [
    {
     "data": {
      "image/png": "[encoded data removed]",
      "text/plain": [
       "<Figure size 200x200 with 1 Axes>"
      ]
     },
     "metadata": {},
     "output_type": "display_data"
    }
   ],
   "source": [
    "draw_stroke_sequence(output_data[1])"
   ]
  },
  {
   "cell_type": "markdown",
   "id": "e04766e4",
   "metadata": {},
   "source": [
    "Data Processing"
   ]
  },
  {
   "cell_type": "code",
   "execution_count": 6,
   "id": "6cd2c493",
   "metadata": {},
   "outputs": [
    {
     "name": "stdout",
     "output_type": "stream",
     "text": [
      "108\n",
      "10000\n"
     ]
    }
   ],
   "source": [
    "# Finding the max length of a sequence\n",
    "max_length = 0\n",
    "j = 0\n",
    "for i in range(len(output_data)):\n",
    "    if len(output_data[i]) > max_length:\n",
    "        max_length = len(output_data[i])\n",
    "    j += 1\n",
    "\n",
    "print(max_length)\n",
    "print(j)"
   ]
  },
  {
   "cell_type": "code",
   "execution_count": 7,
   "id": "edeec1c4",
   "metadata": {},
   "outputs": [
    {
     "name": "stdout",
     "output_type": "stream",
     "text": [
      "10000\n"
     ]
    }
   ],
   "source": [
    "print(len(output_data))"
   ]
  },
  {
   "cell_type": "code",
   "execution_count": 27,
   "id": "642bf923",
   "metadata": {},
   "outputs": [],
   "source": [
    "# Padding the sequences so that they are all the same size (good for batching)\n",
    "padded_output_data = np.zeros( (len(output_data), max_length, 4) )\n",
    "\n",
    "for i in range(len(output_data)):\n",
    "    padded_output_data[i, :len(output_data[i]), :] = output_data[i]\n",
    "    padded_output_data[i, len(output_data[i]):, :] = [0, 0, 0, 1]"
   ]
  },
  {
   "cell_type": "code",
   "execution_count": 28,
   "id": "37cfe765",
   "metadata": {},
   "outputs": [],
   "source": [
    "padded_input_data = np.zeros( (len(output_data), max_length, 4) )\n",
    "\n",
    "for i in range(len(output_data)):\n",
    "    padded_input_data[i, 0, :] = [0, 0, 0, 0]\n",
    "    padded_input_data[i, 1:, :] = padded_output_data[i, :max_length-1, :]"
   ]
  },
  {
   "cell_type": "code",
   "execution_count": 29,
   "id": "8523173c",
   "metadata": {},
   "outputs": [],
   "source": [
    "class StrokeDataset(Dataset):\n",
    "    def __init__(self, onehot, inputs, outputstroke):\n",
    "        self.digit = onehot                     # shape: [N]\n",
    "        self.inputstroke = inputs               # list of [seq_len, 4] arrays\n",
    "        self.outputstroke = outputstroke        # list of [seq_len, 4] arrays\n",
    "\n",
    "    def __len__(self):\n",
    "        return len(self.digit)\n",
    "\n",
    "    def __getitem__(self, idx):\n",
    "        digit = self.digit[idx]\n",
    "        inputs = self.inputstroke[idx]\n",
    "        outputs = self.outputstroke[idx]\n",
    "        return torch.tensor(digit, dtype=torch.float32), torch.tensor(inputs, dtype=torch.float32), torch.tensor(outputs, dtype=torch.float32)"
   ]
  },
  {
   "cell_type": "code",
   "execution_count": 30,
   "id": "1171d853",
   "metadata": {},
   "outputs": [],
   "source": [
    "strokeDataset = StrokeDataset(input_data, padded_input_data, padded_output_data)"
   ]
  },
  {
   "cell_type": "code",
   "execution_count": 31,
   "id": "d67af144",
   "metadata": {},
   "outputs": [],
   "source": [
    "loader = DataLoader(strokeDataset, batch_size=32, shuffle=True)"
   ]
  },
  {
   "cell_type": "markdown",
   "id": "e2d8f994",
   "metadata": {},
   "source": [
    "Creating Model"
   ]
  },
  {
   "cell_type": "markdown",
   "id": "d2082a2d",
   "metadata": {},
   "source": [
    "Notes\n",
    "\n",
    "\n",
    "RNN:\n",
    "input_size = output_size \n"
   ]
  },
  {
   "cell_type": "code",
   "execution_count": 32,
   "id": "e58d8d37",
   "metadata": {},
   "outputs": [],
   "source": [
    "class DigitToStrokeLSTM(nn.Module):\n",
    "    def __init__(self, hidden_size=256, num_layers=2, batch_size=32):\n",
    "        super(DigitToStrokeLSTM, self).__init__()\n",
    "        \n",
    "        self.hidden_size = hidden_size\n",
    "        self.num_layers = num_layers\n",
    "        self.batch_size = batch_size\n",
    "        \n",
    "        self.embedding = nn.Linear(10, hidden_size)  # From one-hot to hidden dim\n",
    "        \n",
    "        # LSTM\n",
    "        # Output layer: predicts [dx, dy, eos, eod]\n",
    "        # Inital hidden state is the one-hot of number\n",
    "        # Initial input is [0, 0, 0, 0, 0]\n",
    "        # Input at t > 0 is output from t-1\n",
    "        \n",
    "        self.lstm = nn.LSTM(\n",
    "            input_size=4,\n",
    "            hidden_size=hidden_size,\n",
    "            num_layers=num_layers,\n",
    "            batch_first=True\n",
    "        )\n",
    "\n",
    "        # Output layer: predicts [dx, dy, eos, eod]\n",
    "        self.output_head = nn.Linear(hidden_size, 4)\n",
    "        self.sigmoid = nn.Sigmoid()  # For eos/eod\n",
    "        self.tanh = nn.Tanh()\n",
    "\n",
    "\n",
    "    def forward(self, x, hidden=None, onehot_digit=None):\n",
    "        \n",
    "        if onehot_digit != None and hidden == None:\n",
    "            # Embed the digit\n",
    "            h0 = self.embedding(onehot_digit)\n",
    "            h0 = h0.unsqueeze(0).repeat(self.num_layers, 1, 1)\n",
    "            c0 = torch.zeros_like(h0)\n",
    "            hidden = (h0, c0)\n",
    "\n",
    "        elif hidden == None and onehot_digit == None:\n",
    "            hidden = (torch.zeros(self.num_layers, self.batch_size, self.hidden_size),\n",
    "                      torch.zeros(self.num_layers, self.batch_size, self.hidden_size))\n",
    "            \n",
    "        out, hidden = self.lstm(x, hidden)\n",
    "        \n",
    "        out = self.output_head(out)\n",
    "        \n",
    "        out[:, :, 0:2] = self.tanh(out[:, :, 0:2])\n",
    "        # out[:, :, 2:] = self.sigmoid(out[:, :, 2:])\n",
    "        \n",
    "        return out, hidden"
   ]
  },
  {
   "cell_type": "code",
   "execution_count": null,
   "id": "e7354307",
   "metadata": {},
   "outputs": [
    {
     "name": "stdout",
     "output_type": "stream",
     "text": [
      "Epoch 1 | Loss: 25.1365\n",
      "Epoch 2 | Loss: 12.5855\n",
      "Epoch 3 | Loss: 12.2693\n",
      "Epoch 4 | Loss: 12.1136\n",
      "Epoch 5 | Loss: 12.0077\n"
     ]
    }
   ],
   "source": [
    "device = torch.device(\"cuda\" if torch.cuda.is_available() else \"cpu\")\n",
    "\n",
    "model = DigitToStrokeLSTM().to(device)\n",
    "dx_dy_loss_fn = nn.MSELoss()\n",
    "eos_eod_loss_fn = nn.BCEWithLogitsLoss()\n",
    "optimizer = torch.optim.Adam(model.parameters(), lr=0.001)\n",
    "\n",
    "n_epochs = 100\n",
    "\n",
    "for epoch in range(n_epochs):\n",
    "    model.train()\n",
    "    total_loss = 0\n",
    "\n",
    "    for (dig, input_seq, output_seq) in loader:\n",
    "        # stroke_seq: [batch, seq_len, 4]\n",
    "        input_seq = input_seq.to(device)\n",
    "        target_seq = output_seq.to(device)\n",
    "        dig = dig.to(device)\n",
    "\n",
    "        pred_seq, hidden = model(input_seq, onehot_digit = dig)  # [batch, seq_len-1, 4]\n",
    "\n",
    "        # Separate predictions\n",
    "        pred_dxdy = pred_seq[..., :2]         # [batch, seq_len-1, 2]\n",
    "        pred_eos_eod = pred_seq[..., 2:]      # [batch, seq_len-1, 2]\n",
    "\n",
    "        # Separate targets\n",
    "        target_dxdy = target_seq[..., :2]\n",
    "        target_eos_eod = target_seq[..., 2:]\n",
    "\n",
    "        # Compute losses\n",
    "        loss_dxdy = dx_dy_loss_fn(pred_dxdy, target_dxdy)\n",
    "        loss_eos_eod = eos_eod_loss_fn(pred_eos_eod, target_eos_eod)\n",
    "\n",
    "        loss = loss_dxdy + loss_eos_eod\n",
    "\n",
    "        optimizer.zero_grad()\n",
    "        loss.backward()\n",
    "        optimizer.step()\n",
    "\n",
    "        total_loss += loss.item()\n",
    "\n",
    "    print(f\"Epoch {epoch+1} | Loss: {total_loss:.4f}\")"
   ]
  },
  {
   "cell_type": "code",
   "execution_count": null,
   "id": "f0d776b6",
   "metadata": {},
   "outputs": [
    {
     "name": "stdout",
     "output_type": "stream",
     "text": [
      "[ 0.03272252 -0.01660399  0.          0.        ]\n",
      "[ 0.03402515 -0.01014511  0.          0.        ]\n",
      "[ 0.03120978 -0.00942927  0.          0.        ]\n",
      "[0.02544003 0.00680723 0.         0.        ]\n",
      "[0.0161071  0.01459462 0.         0.        ]\n",
      "[0.00798515 0.02365777 0.         0.        ]\n",
      "[-0.00293649  0.03274217  0.          0.        ]\n",
      "[-0.00637524  0.03226366  0.          0.        ]\n",
      "[-0.00760479  0.03066226  0.          0.        ]\n",
      "[-0.00745069  0.03314088  0.          0.        ]\n",
      "[-0.00602899  0.03488431  0.          0.        ]\n",
      "[-0.00294009  0.03336725  0.          0.        ]\n",
      "[0.00069171 0.0294662  0.         0.        ]\n",
      "[0.00214714 0.02449873 0.         0.        ]\n",
      "[0.0023198  0.02244289 0.         0.        ]\n",
      "[0.00120652 0.0222239  0.         0.        ]\n",
      "[0.00158428 0.0233448  0.         0.        ]\n",
      "[0.00395407 0.02508419 0.         0.        ]\n",
      "[0.00485264 0.0274777  0.         0.        ]\n",
      "[0.0043787  0.03011967 0.         0.        ]\n",
      "[0.00340309 0.02794293 0.         0.        ]\n",
      "[1.8639024e-05 2.1909596e-02 0.0000000e+00 0.0000000e+00]\n",
      "[-0.00577038  0.01537555  0.          0.        ]\n",
      "[-0.01305085  0.00064275  0.          0.        ]\n",
      "[-0.01698564 -0.01027749  0.          0.        ]\n",
      "[-0.01994251 -0.02092382  0.          0.        ]\n",
      "[-0.01692537 -0.03177422  0.          0.        ]\n",
      "[-0.01827919 -0.03410819  0.          0.        ]\n",
      "[-0.01439173 -0.02445565  0.          0.        ]\n",
      "[-0.00368569 -0.02249939  0.          0.        ]\n",
      "[ 0.00030164 -0.02679589  0.          0.        ]\n",
      "[ 0.00773745 -0.03086785  0.          0.        ]\n",
      "[ 0.01413718 -0.03459843  0.          0.        ]\n",
      "[ 0.01818075 -0.03899378  0.          0.        ]\n",
      "[ 0.02084724 -0.04654419  1.          1.        ]\n",
      "HI\n"
     ]
    },
    {
     "data": {
      "image/png": "[encoded data removed]",
      "text/plain": [
       "<Figure size 200x200 with 1 Axes>"
      ]
     },
     "metadata": {},
     "output_type": "display_data"
    }
   ],
   "source": [
    "def generate_text(number):\n",
    "    model.eval()\n",
    "    \n",
    "    temp_onehot = np.zeros(10)\n",
    "    temp_onehot[number] = 1\n",
    "    temp_onehot = torch.tensor(temp_onehot, dtype=torch.float32).to(device)\n",
    "    \n",
    "    initial_input = torch.tensor([0, 0, 0, 0], dtype=torch.float32).to(device).unsqueeze(0).unsqueeze(1)\n",
    "    \n",
    "    outputs = []\n",
    "    \n",
    "    output, hidden = model(initial_input, onehot_digit=temp_onehot)\n",
    "    output[..., 2:] = (torch.sigmoid(output[..., -1, 2:]) > 0.5).float()\n",
    "\n",
    "    outputs.append(output[:, -1, :].detach().cpu().numpy()[0])\n",
    "\n",
    "    for i in range(max_length-1):\n",
    "        output, hidden = model(output, hidden=hidden)\n",
    "        output[..., 2:] = (torch.sigmoid(output[..., -1, 2:]) > 0.5).float()\n",
    "        outputs.append(output[:, -1, :].detach().cpu().numpy()[0])\n",
    "        \n",
    "        print(outputs[-1])\n",
    "        if output[:, -1, 3] == 1:\n",
    "            print(\"HI\")\n",
    "            break\n",
    "    \n",
    "    draw_stroke_sequence(outputs)\n"
   ]
  },
  {
   "cell_type": "code",
   "execution_count": 50,
   "id": "8e548538",
   "metadata": {},
   "outputs": [
    {
     "name": "stdout",
     "output_type": "stream",
     "text": [
      "[ 0.03088494 -0.00844406  0.          0.        ]\n",
      "[ 0.02031474 -0.0081905   0.          0.        ]\n",
      "[0.01339131 0.00354827 0.         0.        ]\n",
      "[0.01300013 0.0076798  0.         0.        ]\n",
      "[0.00914745 0.01133614 0.         0.        ]\n",
      "[0.00614181 0.01786359 0.         0.        ]\n",
      "[0.00178194 0.02448051 0.         0.        ]\n",
      "[0.00063624 0.0255925  0.         0.        ]\n",
      "[-5.4896343e-05  2.6210783e-02  0.0000000e+00  0.0000000e+00]\n",
      "[-0.00037342  0.03015714  0.          0.        ]\n",
      "[0.00059756 0.03321504 0.         0.        ]\n",
      "[0.00194142 0.03498397 0.         0.        ]\n",
      "[0.00444413 0.03513817 0.         0.        ]\n",
      "[0.00825907 0.03328623 0.         0.        ]\n",
      "[0.01129275 0.03229221 0.         0.        ]\n",
      "[0.01301605 0.03342851 0.         0.        ]\n",
      "[0.01458209 0.03404956 0.         0.        ]\n",
      "[0.01499414 0.03485171 0.         0.        ]\n",
      "[0.014991   0.03491335 0.         0.        ]\n",
      "[0.01740294 0.03258666 0.         0.        ]\n",
      "[0.01823854 0.02604053 0.         0.        ]\n",
      "[0.01699833 0.01735975 0.         0.        ]\n",
      "[0.01339978 0.01327493 0.         0.        ]\n",
      "[0.008707  0.0110402 0.        0.       ]\n",
      "[0.00693883 0.00724619 0.         0.        ]\n",
      "[0.01050787 0.00724783 0.         0.        ]\n",
      "[0.01662632 0.00716876 0.         0.        ]\n",
      "[ 0.01956212 -0.00195798  0.          0.        ]\n",
      "[ 0.0284692  -0.00417757  0.          0.        ]\n",
      "[ 0.03094003 -0.00291992  0.          0.        ]\n",
      "[ 0.02980256 -0.01030503  0.          0.        ]\n",
      "[ 0.02004629 -0.01240124  0.          0.        ]\n",
      "[ 0.00750316 -0.00883448  0.          0.        ]\n",
      "[-0.00150701 -0.01281353  0.          0.        ]\n",
      "[-0.01340508 -0.01997953  0.          0.        ]\n",
      "[-0.01159613 -0.0266229   0.          0.        ]\n",
      "[-0.01091912 -0.02553765  0.          0.        ]\n",
      "[-0.01357753 -0.01386225  0.          0.        ]\n",
      "[-0.02131706 -0.00680691  0.          0.        ]\n",
      "[-0.01997477 -0.00319205  0.          0.        ]\n",
      "[-0.00944386 -0.00240057  0.          0.        ]\n",
      "[ 0.0018422  -0.00666658  0.          0.        ]\n",
      "[ 0.01879025 -0.01915799  0.          0.        ]\n",
      "[ 0.03613478 -0.02978634  0.          0.        ]\n",
      "[ 0.03830781 -0.03573233  0.          0.        ]\n",
      "[ 0.03469164 -0.03655823  0.          0.        ]\n",
      "[ 0.02801037 -0.02877608  0.          0.        ]\n",
      "[ 0.01532404 -0.02391146  0.          0.        ]\n",
      "[ 0.0031116  -0.01910936  0.          0.        ]\n",
      "[-0.0020131  -0.01466606  0.          0.        ]\n",
      "[-0.00545322 -0.01030087  0.          0.        ]\n",
      "[-0.01111461 -0.00203242  0.          0.        ]\n",
      "[-0.01598632  0.00736384  0.          0.        ]\n",
      "[-0.01964483  0.01523062  0.          0.        ]\n",
      "[-0.0202076   0.02053785  0.          0.        ]\n",
      "[-0.01727729  0.02162774  0.          0.        ]\n",
      "[-0.01363273  0.01910589  0.          0.        ]\n",
      "[-0.01056883  0.01394807  0.          0.        ]\n",
      "[-0.00871933  0.00689188  0.          0.        ]\n",
      "[-0.00793258 -0.00149881  0.          0.        ]\n",
      "[-0.00733222 -0.01018002  0.          0.        ]\n",
      "[-0.00149107 -0.01882223  0.          0.        ]\n",
      "[ 0.00503366 -0.02634624  0.          0.        ]\n",
      "[ 0.00502416 -0.03003381  0.          0.        ]\n",
      "[ 0.00015365 -0.03098032  0.          0.        ]\n",
      "[-0.00669966 -0.03051281  0.          0.        ]\n",
      "[-0.01327978 -0.02957002  0.          0.        ]\n",
      "[-0.01831564 -0.02831129  1.          0.        ]\n",
      "[0.03401686 0.02954038 0.         0.        ]\n",
      "[-0.00642895  0.01082165  0.          0.        ]\n",
      "[0.02675594 0.02256981 1.         0.        ]\n",
      "[-0.02614215 -0.02230988  0.          0.        ]\n",
      "[0.00873094 0.02296886 0.         0.        ]\n",
      "[0.01318724 0.00582693 1.         1.        ]\n",
      "HI\n"
     ]
    },
    {
     "data": {
      "image/png": "[encoded data removed]",
      "text/plain": [
       "<Figure size 200x200 with 1 Axes>"
      ]
     },
     "metadata": {},
     "output_type": "display_data"
    }
   ],
   "source": [
    "generate_text(2)"
   ]
  },
  {
   "cell_type": "code",
   "execution_count": null,
   "id": "8c1ac7a2",
   "metadata": {},
   "outputs": [],
   "source": []
  }
 ],
 "metadata": {
  "kernelspec": {
   "display_name": "Python 3",
   "language": "python",
   "name": "python3"
  },
  "language_info": {
   "codemirror_mode": {
    "name": "ipython",
    "version": 3
   },
   "file_extension": ".py",
   "mimetype": "text/x-python",
   "name": "python",
   "nbconvert_exporter": "python",
   "pygments_lexer": "ipython3",
   "version": "3.9.6"
  }
 },
 "nbformat": 4,
 "nbformat_minor": 5
}
